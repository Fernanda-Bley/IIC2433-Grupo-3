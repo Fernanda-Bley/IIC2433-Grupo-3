{
 "cells": [
  {
   "cell_type": "markdown",
   "metadata": {},
   "source": [
    "# Definición del Problema"
   ]
  },
  {
   "cell_type": "markdown",
   "metadata": {},
   "source": [
    "# Impacto del Trabajo\n",
    "\n",
    "La industria de los videojuegos es una de las más rentables del mundo. Solo en 2022 se registraron beneficios de [347 billones de dólares](https://www.statista.com/topics/868/video-games/#), lo que la convierte en un negocio aún mayor que el de los [deportes y la música juntos ](https://www.marketwatch.com/story/videogames-are-a-bigger-industry-than-sports-and-movies-combined-thanks-to-the-pandemic-11608654990). Esto se debe a que su popularidad no ha dejado de aumentar a lo largo de los años. En 2022, [Deloitte](https://www2.deloitte.com/us/en/insights/industry/technology/digital-media-trends-consumption-habits-survey/summary.html) realizó una encuesta en la que el 80 % de los estadounidenses afirmaba jugar a videojuegos. \n",
    "\n",
    "Esta área del mercado siempre está evolucionando y cambiando para ofrecer productos de mejor calidad y juegos más realistas e inversivos. En el documental [How Video Games Changed the World ](https://www.bing.com/search?q=How+Video+Games+Have+Changed+The+World&FORM=SSQNT1&PC=U531) se explica cómo los videojuegos influyen profundamente en el avance de la tecnología, potenciando la creación de tarjetas gráficas, tarjetas de sonido, aceleradores gráficos, etc.   \n",
    "\n",
    "Consideramos extremadamente importante intentar predecir el comportamiento de las ventas de videojuegos y tener en cuenta los factores que pueden ayudar o perjudicar la rentabilidad de esta industria. De esta manera, la tecnología podrá adaptarse a los juegos más populares y podremos saber cómo mantener estable una industria tan importante. "
   ]
  },
  {
   "cell_type": "markdown",
   "metadata": {
    "vscode": {
     "languageId": "plaintext"
    }
   },
   "source": [
    "# Datos"
   ]
  },
  {
   "cell_type": "markdown",
   "metadata": {},
   "source": [
    "# Análisis Exploratorio de los Datos"
   ]
  },
  {
   "cell_type": "markdown",
   "metadata": {},
   "source": [
    "# Primera Respuesta al Problema o Pregunta\n",
    "- ¿Por qué era adecuado el trabajo realizado para mi proyecto?\n",
    "- ¿Qué limitaciones tiene mi análisis? ¿Cómo se podría mejorar o solventar algunas de esas limitaciones?\n",
    "- ¿Necesito más datos para mi proyecto?\n",
    "- ¿Necesito más análisis para mi proyecto?"
   ]
  }
 ],
 "metadata": {
  "language_info": {
   "name": "python"
  }
 },
 "nbformat": 4,
 "nbformat_minor": 2
}
