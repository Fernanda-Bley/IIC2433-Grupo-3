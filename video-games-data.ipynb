{
 "cells": [
  {
   "cell_type": "code",
   "execution_count": 1,
   "metadata": {},
   "outputs": [],
   "source": [
    "import numpy as np \n",
    "import pandas as pd \n",
    "import matplotlib as plt"
   ]
  },
  {
   "cell_type": "markdown",
   "metadata": {},
   "source": [
    "# Definición del Problema\n",
    "\n",
    "En los últimos años hemos visto un crecimiento exponencial en la venta de videojuegos, aumentando en un 46.43%. Esto nos hizo preguntarnos: ***¿Qué atributos influyen en el desempeño de un videojuego en la industria global?*** En otras palabras ¿Tiene alguna relación las ventas de un videojuego y otros datos considerados (*Platforma*, *Genero*, *Quien lo publica*, ect.)? \n",
    "\n",
    "El proposito de este proyecto es para ver si es que podemos predicir el rendimiento (En terminos de ventas globales) de un videojuego teniendo caracteristicas cualitativas."
   ]
  },
  {
   "cell_type": "markdown",
   "metadata": {},
   "source": [
    "# Impacto del Trabajo\n",
    "\n",
    "La industria de los videojuegos es una de las más rentables del mundo. Solo en 2022 se registraron beneficios de [347 billones de dólares](https://www.statista.com/topics/868/video-games/#), lo que la convierte en un negocio aún mayor que el de los [deportes y la música juntos ](https://www.marketwatch.com/story/videogames-are-a-bigger-industry-than-sports-and-movies-combined-thanks-to-the-pandemic-11608654990). Esto se debe a que su popularidad no ha dejado de aumentar a lo largo de los años. En 2022, [Deloitte](https://www2.deloitte.com/us/en/insights/industry/technology/digital-media-trends-consumption-habits-survey/summary.html) realizó una encuesta en la que el 80 % de los estadounidenses afirmaba jugar a videojuegos. \n",
    "\n",
    "Esta área del mercado siempre está evolucionando y cambiando para ofrecer productos de mejor calidad y juegos más realistas e inversivos. En el documental [How Video Games Changed the World ](https://www.bing.com/search?q=How+Video+Games+Have+Changed+The+World&FORM=SSQNT1&PC=U531) se explica cómo los videojuegos influyen profundamente en el avance de la tecnología, potenciando la creación de tarjetas gráficas, tarjetas de sonido, aceleradores gráficos, etc.   \n",
    "\n",
    "Consideramos extremadamente importante intentar predecir el comportamiento de las ventas de videojuegos y tener en cuenta los factores que pueden ayudar o perjudicar la rentabilidad de esta industria. De esta manera, la tecnología podrá adaptarse a los juegos más populares y podremos saber cómo mantener estable una industria tan importante. "
   ]
  },
  {
   "cell_type": "markdown",
   "metadata": {
    "vscode": {
     "languageId": "plaintext"
    }
   },
   "source": [
    "# Datos"
   ]
  },
  {
   "cell_type": "markdown",
   "metadata": {},
   "source": [
    "El DataSet que vamos a ocupar es una fusión entre dos DataSet que recuperamos de Kaggle que se llaman: [Video Game Sales](https://www.kaggle.com/datasets/gregorut/videogamesales) y [Video Game Sales with Ratings](https://www.kaggle.com/datasets/rush4ratio/video-game-sales-with-ratings)"
   ]
  },
  {
   "cell_type": "code",
   "execution_count": 2,
   "metadata": {},
   "outputs": [
    {
     "name": "stdout",
     "output_type": "stream",
     "text": [
      "Nuestro dataset tiene: 16598 juegos\n"
     ]
    },
    {
     "data": {
      "text/plain": [
       "Rank              0\n",
       "Name              0\n",
       "Platform          0\n",
       "Year            271\n",
       "Genre             0\n",
       "Publisher        58\n",
       "NA_Sales          0\n",
       "EU_Sales          0\n",
       "JP_Sales          0\n",
       "Other_Sales       0\n",
       "Global_Sales      0\n",
       "dtype: int64"
      ]
     },
     "execution_count": 2,
     "metadata": {},
     "output_type": "execute_result"
    }
   ],
   "source": [
    "VGSales =  pd.read_csv('DataSets/VGSales.csv')\n",
    "print('Nuestro dataset tiene:',VGSales.shape[0], 'juegos')\n",
    "VGSales.isna().sum()"
   ]
  },
  {
   "cell_type": "code",
   "execution_count": 3,
   "metadata": {},
   "outputs": [
    {
     "name": "stdout",
     "output_type": "stream",
     "text": [
      "En este caso tenemos:  16719 juegos\n"
     ]
    },
    {
     "data": {
      "text/plain": [
       "Name                  2\n",
       "Platform              0\n",
       "Year_of_Release     269\n",
       "Genre                 2\n",
       "Publisher            54\n",
       "NA_Sales              0\n",
       "EU_Sales              0\n",
       "JP_Sales              0\n",
       "Other_Sales           0\n",
       "Global_Sales          0\n",
       "Critic_Score       8582\n",
       "Critic_Count       8582\n",
       "User_Score         6704\n",
       "User_Count         9129\n",
       "Developer          6623\n",
       "Rating             6769\n",
       "dtype: int64"
      ]
     },
     "execution_count": 3,
     "metadata": {},
     "output_type": "execute_result"
    }
   ],
   "source": [
    "VGSalesRatings =  pd.read_csv('DataSets/VideoGameSaleswRatings.csv')\n",
    "print('En este caso tenemos: ', VGSalesRatings.shape[0], 'juegos')\n",
    "VGSalesRatings.isna().sum()"
   ]
  },
  {
   "cell_type": "markdown",
   "metadata": {},
   "source": [
    "Como la mayor cantidad de NaN que aparecen son por parte del segundo DataSet, así que sería mejor rescatar los datos que nos sirvan de este y quedarnos con el primero como una base para el DataSet."
   ]
  },
  {
   "cell_type": "code",
   "execution_count": 4,
   "metadata": {},
   "outputs": [],
   "source": [
    "#Droppeamos los NaN en nuestro dataset de ratings\n",
    "VGSalesRatings_noNaN = VGSalesRatings.dropna()\n",
    "#Creamos un nuevo dataset quedandonos con los datos que no estan en el primer DataSet\n",
    "CleanData = VGSalesRatings_noNaN[['Name', 'Critic_Score', 'Critic_Count','User_Score', 'User_Count', 'Developer','Rating']]\n"
   ]
  },
  {
   "cell_type": "code",
   "execution_count": 5,
   "metadata": {},
   "outputs": [
    {
     "data": {
      "text/plain": [
       "Name              0\n",
       "Critic_Score      0\n",
       "Critic_Count      0\n",
       "User_Score        0\n",
       "User_Count        0\n",
       "Developer         0\n",
       "Rating            0\n",
       "Rank              0\n",
       "Platform          0\n",
       "Year            173\n",
       "Genre             0\n",
       "Publisher         4\n",
       "NA_Sales          0\n",
       "EU_Sales          0\n",
       "JP_Sales          0\n",
       "Other_Sales       0\n",
       "Global_Sales      0\n",
       "dtype: int64"
      ]
     },
     "execution_count": 5,
     "metadata": {},
     "output_type": "execute_result"
    }
   ],
   "source": [
    "#Unimos los dataset con el mismo nombre\n",
    "Merge = pd.merge(CleanData, VGSales, on = 'Name')\n",
    "#Revisamos los NaN que tienen\n",
    "Merge.isna().sum()"
   ]
  },
  {
   "cell_type": "code",
   "execution_count": 6,
   "metadata": {},
   "outputs": [
    {
     "data": {
      "text/plain": [
       "Name            0\n",
       "Critic_Score    0\n",
       "Critic_Count    0\n",
       "User_Score      0\n",
       "User_Count      0\n",
       "Developer       0\n",
       "Rating          0\n",
       "Rank            0\n",
       "Platform        0\n",
       "Year            0\n",
       "Genre           0\n",
       "Publisher       0\n",
       "NA_Sales        0\n",
       "EU_Sales        0\n",
       "JP_Sales        0\n",
       "Other_Sales     0\n",
       "Global_Sales    0\n",
       "dtype: int64"
      ]
     },
     "execution_count": 6,
     "metadata": {},
     "output_type": "execute_result"
    }
   ],
   "source": [
    "#Como los NaN se pueden arreglar, reemplazamos que los publishers desconocidos son Unknown y los años desconocidos por 0\n",
    "\n",
    "Final = Merge.assign(Publisher=Merge['Publisher'].fillna('Unknown'))\n",
    "Final = Final.assign(Year=Merge['Year'].fillna(0))\n",
    "\n",
    "Final.isna().sum()"
   ]
  },
  {
   "cell_type": "code",
   "execution_count": 7,
   "metadata": {},
   "outputs": [
    {
     "data": {
      "text/html": [
       "<div>\n",
       "<style scoped>\n",
       "    .dataframe tbody tr th:only-of-type {\n",
       "        vertical-align: middle;\n",
       "    }\n",
       "\n",
       "    .dataframe tbody tr th {\n",
       "        vertical-align: top;\n",
       "    }\n",
       "\n",
       "    .dataframe thead th {\n",
       "        text-align: right;\n",
       "    }\n",
       "</style>\n",
       "<table border=\"1\" class=\"dataframe\">\n",
       "  <thead>\n",
       "    <tr style=\"text-align: right;\">\n",
       "      <th></th>\n",
       "      <th>Name</th>\n",
       "      <th>Critic_Score</th>\n",
       "      <th>Critic_Count</th>\n",
       "      <th>User_Score</th>\n",
       "      <th>User_Count</th>\n",
       "      <th>Developer</th>\n",
       "      <th>Rating</th>\n",
       "      <th>Rank</th>\n",
       "      <th>Platform</th>\n",
       "      <th>Year</th>\n",
       "      <th>Genre</th>\n",
       "      <th>Publisher</th>\n",
       "      <th>NA_Sales</th>\n",
       "      <th>EU_Sales</th>\n",
       "      <th>JP_Sales</th>\n",
       "      <th>Other_Sales</th>\n",
       "      <th>Global_Sales</th>\n",
       "    </tr>\n",
       "  </thead>\n",
       "  <tbody>\n",
       "    <tr>\n",
       "      <th>0</th>\n",
       "      <td>Wii Sports</td>\n",
       "      <td>76.0</td>\n",
       "      <td>51.0</td>\n",
       "      <td>8</td>\n",
       "      <td>322.0</td>\n",
       "      <td>Nintendo</td>\n",
       "      <td>E</td>\n",
       "      <td>1</td>\n",
       "      <td>Wii</td>\n",
       "      <td>2006.0</td>\n",
       "      <td>Sports</td>\n",
       "      <td>Nintendo</td>\n",
       "      <td>41.49</td>\n",
       "      <td>29.02</td>\n",
       "      <td>3.77</td>\n",
       "      <td>8.46</td>\n",
       "      <td>82.74</td>\n",
       "    </tr>\n",
       "    <tr>\n",
       "      <th>1</th>\n",
       "      <td>Mario Kart Wii</td>\n",
       "      <td>82.0</td>\n",
       "      <td>73.0</td>\n",
       "      <td>8.3</td>\n",
       "      <td>709.0</td>\n",
       "      <td>Nintendo</td>\n",
       "      <td>E</td>\n",
       "      <td>3</td>\n",
       "      <td>Wii</td>\n",
       "      <td>2008.0</td>\n",
       "      <td>Racing</td>\n",
       "      <td>Nintendo</td>\n",
       "      <td>15.85</td>\n",
       "      <td>12.88</td>\n",
       "      <td>3.79</td>\n",
       "      <td>3.31</td>\n",
       "      <td>35.82</td>\n",
       "    </tr>\n",
       "    <tr>\n",
       "      <th>2</th>\n",
       "      <td>Wii Sports Resort</td>\n",
       "      <td>80.0</td>\n",
       "      <td>73.0</td>\n",
       "      <td>8</td>\n",
       "      <td>192.0</td>\n",
       "      <td>Nintendo</td>\n",
       "      <td>E</td>\n",
       "      <td>4</td>\n",
       "      <td>Wii</td>\n",
       "      <td>2009.0</td>\n",
       "      <td>Sports</td>\n",
       "      <td>Nintendo</td>\n",
       "      <td>15.75</td>\n",
       "      <td>11.01</td>\n",
       "      <td>3.28</td>\n",
       "      <td>2.96</td>\n",
       "      <td>33.00</td>\n",
       "    </tr>\n",
       "    <tr>\n",
       "      <th>3</th>\n",
       "      <td>New Super Mario Bros.</td>\n",
       "      <td>89.0</td>\n",
       "      <td>65.0</td>\n",
       "      <td>8.5</td>\n",
       "      <td>431.0</td>\n",
       "      <td>Nintendo</td>\n",
       "      <td>E</td>\n",
       "      <td>7</td>\n",
       "      <td>DS</td>\n",
       "      <td>2006.0</td>\n",
       "      <td>Platform</td>\n",
       "      <td>Nintendo</td>\n",
       "      <td>11.38</td>\n",
       "      <td>9.23</td>\n",
       "      <td>6.50</td>\n",
       "      <td>2.90</td>\n",
       "      <td>30.01</td>\n",
       "    </tr>\n",
       "    <tr>\n",
       "      <th>4</th>\n",
       "      <td>Wii Play</td>\n",
       "      <td>58.0</td>\n",
       "      <td>41.0</td>\n",
       "      <td>6.6</td>\n",
       "      <td>129.0</td>\n",
       "      <td>Nintendo</td>\n",
       "      <td>E</td>\n",
       "      <td>8</td>\n",
       "      <td>Wii</td>\n",
       "      <td>2006.0</td>\n",
       "      <td>Misc</td>\n",
       "      <td>Nintendo</td>\n",
       "      <td>14.03</td>\n",
       "      <td>9.20</td>\n",
       "      <td>2.93</td>\n",
       "      <td>2.85</td>\n",
       "      <td>29.02</td>\n",
       "    </tr>\n",
       "    <tr>\n",
       "      <th>...</th>\n",
       "      <td>...</td>\n",
       "      <td>...</td>\n",
       "      <td>...</td>\n",
       "      <td>...</td>\n",
       "      <td>...</td>\n",
       "      <td>...</td>\n",
       "      <td>...</td>\n",
       "      <td>...</td>\n",
       "      <td>...</td>\n",
       "      <td>...</td>\n",
       "      <td>...</td>\n",
       "      <td>...</td>\n",
       "      <td>...</td>\n",
       "      <td>...</td>\n",
       "      <td>...</td>\n",
       "      <td>...</td>\n",
       "      <td>...</td>\n",
       "    </tr>\n",
       "    <tr>\n",
       "      <th>17431</th>\n",
       "      <td>Metal Gear Solid V: Ground Zeroes</td>\n",
       "      <td>80.0</td>\n",
       "      <td>20.0</td>\n",
       "      <td>7.6</td>\n",
       "      <td>412.0</td>\n",
       "      <td>Kojima Productions</td>\n",
       "      <td>M</td>\n",
       "      <td>3267</td>\n",
       "      <td>PS3</td>\n",
       "      <td>2014.0</td>\n",
       "      <td>Action</td>\n",
       "      <td>Konami Digital Entertainment</td>\n",
       "      <td>0.14</td>\n",
       "      <td>0.14</td>\n",
       "      <td>0.27</td>\n",
       "      <td>0.06</td>\n",
       "      <td>0.62</td>\n",
       "    </tr>\n",
       "    <tr>\n",
       "      <th>17432</th>\n",
       "      <td>Metal Gear Solid V: Ground Zeroes</td>\n",
       "      <td>80.0</td>\n",
       "      <td>20.0</td>\n",
       "      <td>7.6</td>\n",
       "      <td>412.0</td>\n",
       "      <td>Kojima Productions</td>\n",
       "      <td>M</td>\n",
       "      <td>6120</td>\n",
       "      <td>XOne</td>\n",
       "      <td>2014.0</td>\n",
       "      <td>Action</td>\n",
       "      <td>Konami Digital Entertainment</td>\n",
       "      <td>0.15</td>\n",
       "      <td>0.11</td>\n",
       "      <td>0.00</td>\n",
       "      <td>0.02</td>\n",
       "      <td>0.28</td>\n",
       "    </tr>\n",
       "    <tr>\n",
       "      <th>17433</th>\n",
       "      <td>Metal Gear Solid V: Ground Zeroes</td>\n",
       "      <td>80.0</td>\n",
       "      <td>20.0</td>\n",
       "      <td>7.6</td>\n",
       "      <td>412.0</td>\n",
       "      <td>Kojima Productions</td>\n",
       "      <td>M</td>\n",
       "      <td>8755</td>\n",
       "      <td>X360</td>\n",
       "      <td>2014.0</td>\n",
       "      <td>Action</td>\n",
       "      <td>Konami Digital Entertainment</td>\n",
       "      <td>0.07</td>\n",
       "      <td>0.06</td>\n",
       "      <td>0.01</td>\n",
       "      <td>0.01</td>\n",
       "      <td>0.15</td>\n",
       "    </tr>\n",
       "    <tr>\n",
       "      <th>17434</th>\n",
       "      <td>Breach</td>\n",
       "      <td>61.0</td>\n",
       "      <td>12.0</td>\n",
       "      <td>5.8</td>\n",
       "      <td>43.0</td>\n",
       "      <td>Atomic Games</td>\n",
       "      <td>T</td>\n",
       "      <td>16588</td>\n",
       "      <td>PC</td>\n",
       "      <td>2011.0</td>\n",
       "      <td>Shooter</td>\n",
       "      <td>Destineer</td>\n",
       "      <td>0.01</td>\n",
       "      <td>0.00</td>\n",
       "      <td>0.00</td>\n",
       "      <td>0.00</td>\n",
       "      <td>0.01</td>\n",
       "    </tr>\n",
       "    <tr>\n",
       "      <th>17435</th>\n",
       "      <td>STORM: Frontline Nation</td>\n",
       "      <td>60.0</td>\n",
       "      <td>12.0</td>\n",
       "      <td>7.2</td>\n",
       "      <td>13.0</td>\n",
       "      <td>SimBin</td>\n",
       "      <td>E10+</td>\n",
       "      <td>16535</td>\n",
       "      <td>PC</td>\n",
       "      <td>2011.0</td>\n",
       "      <td>Strategy</td>\n",
       "      <td>Unknown</td>\n",
       "      <td>0.00</td>\n",
       "      <td>0.01</td>\n",
       "      <td>0.00</td>\n",
       "      <td>0.00</td>\n",
       "      <td>0.01</td>\n",
       "    </tr>\n",
       "  </tbody>\n",
       "</table>\n",
       "<p>17436 rows × 17 columns</p>\n",
       "</div>"
      ],
      "text/plain": [
       "                                    Name  Critic_Score  Critic_Count  \\\n",
       "0                             Wii Sports          76.0          51.0   \n",
       "1                         Mario Kart Wii          82.0          73.0   \n",
       "2                      Wii Sports Resort          80.0          73.0   \n",
       "3                  New Super Mario Bros.          89.0          65.0   \n",
       "4                               Wii Play          58.0          41.0   \n",
       "...                                  ...           ...           ...   \n",
       "17431  Metal Gear Solid V: Ground Zeroes          80.0          20.0   \n",
       "17432  Metal Gear Solid V: Ground Zeroes          80.0          20.0   \n",
       "17433  Metal Gear Solid V: Ground Zeroes          80.0          20.0   \n",
       "17434                             Breach          61.0          12.0   \n",
       "17435            STORM: Frontline Nation          60.0          12.0   \n",
       "\n",
       "      User_Score  User_Count           Developer Rating   Rank Platform  \\\n",
       "0              8       322.0            Nintendo      E      1      Wii   \n",
       "1            8.3       709.0            Nintendo      E      3      Wii   \n",
       "2              8       192.0            Nintendo      E      4      Wii   \n",
       "3            8.5       431.0            Nintendo      E      7       DS   \n",
       "4            6.6       129.0            Nintendo      E      8      Wii   \n",
       "...          ...         ...                 ...    ...    ...      ...   \n",
       "17431        7.6       412.0  Kojima Productions      M   3267      PS3   \n",
       "17432        7.6       412.0  Kojima Productions      M   6120     XOne   \n",
       "17433        7.6       412.0  Kojima Productions      M   8755     X360   \n",
       "17434        5.8        43.0        Atomic Games      T  16588       PC   \n",
       "17435        7.2        13.0              SimBin   E10+  16535       PC   \n",
       "\n",
       "         Year     Genre                     Publisher  NA_Sales  EU_Sales  \\\n",
       "0      2006.0    Sports                      Nintendo     41.49     29.02   \n",
       "1      2008.0    Racing                      Nintendo     15.85     12.88   \n",
       "2      2009.0    Sports                      Nintendo     15.75     11.01   \n",
       "3      2006.0  Platform                      Nintendo     11.38      9.23   \n",
       "4      2006.0      Misc                      Nintendo     14.03      9.20   \n",
       "...       ...       ...                           ...       ...       ...   \n",
       "17431  2014.0    Action  Konami Digital Entertainment      0.14      0.14   \n",
       "17432  2014.0    Action  Konami Digital Entertainment      0.15      0.11   \n",
       "17433  2014.0    Action  Konami Digital Entertainment      0.07      0.06   \n",
       "17434  2011.0   Shooter                     Destineer      0.01      0.00   \n",
       "17435  2011.0  Strategy                       Unknown      0.00      0.01   \n",
       "\n",
       "       JP_Sales  Other_Sales  Global_Sales  \n",
       "0          3.77         8.46         82.74  \n",
       "1          3.79         3.31         35.82  \n",
       "2          3.28         2.96         33.00  \n",
       "3          6.50         2.90         30.01  \n",
       "4          2.93         2.85         29.02  \n",
       "...         ...          ...           ...  \n",
       "17431      0.27         0.06          0.62  \n",
       "17432      0.00         0.02          0.28  \n",
       "17433      0.01         0.01          0.15  \n",
       "17434      0.00         0.00          0.01  \n",
       "17435      0.00         0.00          0.01  \n",
       "\n",
       "[17436 rows x 17 columns]"
      ]
     },
     "execution_count": 7,
     "metadata": {},
     "output_type": "execute_result"
    }
   ],
   "source": [
    "#Así que la versión final es está\n",
    "Final"
   ]
  },
  {
   "cell_type": "markdown",
   "metadata": {},
   "source": [
    "# Análisis Exploratorio de los Datos"
   ]
  },
  {
   "cell_type": "markdown",
   "metadata": {},
   "source": [
    "# Primera Respuesta al Problema o Pregunta\n",
    "- ¿Por qué era adecuado el trabajo realizado para mi proyecto?\n",
    "- ¿Qué limitaciones tiene mi análisis? ¿Cómo se podría mejorar o solventar algunas de esas limitaciones?\n",
    "- ¿Necesito más datos para mi proyecto?\n",
    "- ¿Necesito más análisis para mi proyecto?"
   ]
  }
 ],
 "metadata": {
  "kernelspec": {
   "display_name": "Python 3",
   "language": "python",
   "name": "python3"
  },
  "language_info": {
   "codemirror_mode": {
    "name": "ipython",
    "version": 3
   },
   "file_extension": ".py",
   "mimetype": "text/x-python",
   "name": "python",
   "nbconvert_exporter": "python",
   "pygments_lexer": "ipython3",
   "version": "3.12.1"
  }
 },
 "nbformat": 4,
 "nbformat_minor": 2
}
