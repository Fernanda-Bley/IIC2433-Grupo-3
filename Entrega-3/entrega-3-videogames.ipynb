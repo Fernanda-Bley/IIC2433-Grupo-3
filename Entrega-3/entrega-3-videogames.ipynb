{
 "cells": [
  {
   "cell_type": "code",
   "execution_count": 400,
   "metadata": {},
   "outputs": [],
   "source": [
    "## Se demora a lo mucho: 20 seg en correr\n",
    "import numpy as np \n",
    "import pandas as pd \n",
    "import matplotlib.pyplot as plt\n",
    "import warnings\n",
    "import time\n",
    "\n",
    "#Preprocesamiento\n",
    "from sklearn.preprocessing import StandardScaler\n",
    "from sklearn.preprocessing import MinMaxScaler\n",
    "# Modelos utilizados\n",
    "from sklearn.linear_model import LogisticRegression\n",
    "from sklearn.linear_model import LinearRegression\n",
    "from sklearn.neighbors import KNeighborsClassifier\n",
    "from sklearn.tree import DecisionTreeClassifier\n",
    "from sklearn.ensemble import RandomForestClassifier\n",
    "# Metricas para seleccionar\n",
    "from sklearn.metrics import classification_report\n",
    "from sklearn.model_selection import cross_val_predict, cross_val_score, train_test_split\n",
    "from sklearn.decomposition import PCA\n",
    "\n",
    "# Warinings filtrados y tiempo tomado\n",
    "warnings.filterwarnings('ignore')\n",
    "start_time = time.time()\n",
    "\n"
   ]
  },
  {
   "cell_type": "markdown",
   "metadata": {},
   "source": [
    "<div style=\"text-align: center;\"\"></a><img src=\"https://i.ibb.co/XFL6rby/portada.png\" alt=\"portada\" border=\"0\"></a>"
   ]
  },
  {
   "cell_type": "markdown",
   "metadata": {},
   "source": [
    "#### Recuperando los datos"
   ]
  },
  {
   "cell_type": "code",
   "execution_count": 401,
   "metadata": {},
   "outputs": [],
   "source": [
    "VGSaleswoRating = \"https://fernanda-bley.github.io/mineria%20/VGSales.csv\"\n",
    "VGSaleswRating = \"https://fernanda-bley.github.io/mineria%20/VideoGameSaleswRatings.csv\"\n",
    "\n",
    "VGSales =  pd.read_csv(VGSaleswoRating)\n",
    "VGSalesRatings =  pd.read_csv(VGSaleswRating)\n"
   ]
  },
  {
   "cell_type": "markdown",
   "metadata": {},
   "source": [
    "#### Limpieza de datos"
   ]
  },
  {
   "cell_type": "code",
   "execution_count": 402,
   "metadata": {},
   "outputs": [],
   "source": [
    "#Droppeamos los NaN en nuestro dataset de ratings\n",
    "VGSalesRatings_noNaN = VGSalesRatings.dropna()\n",
    "#Creamos un nuevo dataset quedandonos con los datos que no estan en el primer DataSet\n",
    "CleanData = VGSalesRatings_noNaN[['Name', 'Critic_Score', 'Critic_Count','User_Score', 'User_Count', 'Developer','Rating']]\n",
    "\n",
    "#Unimos los dataset con el mismo nombre\n",
    "Merge = pd.merge(CleanData, VGSales, on = 'Name')\n",
    "#Revisamos los NaN que tienen\n",
    "Merge.isna().sum()\n",
    "\n",
    "#Como los NaN se pueden arreglar, reemplazamos que los publishers desconocidos son Unknown y los años desconocidos por 0\n",
    "\n",
    "Final = Merge.assign(Publisher=Merge['Publisher'].fillna('Unknown'))\n",
    "Final = Final.assign(Year=Merge['Year'].fillna(0))"
   ]
  },
  {
   "cell_type": "code",
   "execution_count": 403,
   "metadata": {},
   "outputs": [
    {
     "data": {
      "text/html": [
       "<div>\n",
       "<style scoped>\n",
       "    .dataframe tbody tr th:only-of-type {\n",
       "        vertical-align: middle;\n",
       "    }\n",
       "\n",
       "    .dataframe tbody tr th {\n",
       "        vertical-align: top;\n",
       "    }\n",
       "\n",
       "    .dataframe thead th {\n",
       "        text-align: right;\n",
       "    }\n",
       "</style>\n",
       "<table border=\"1\" class=\"dataframe\">\n",
       "  <thead>\n",
       "    <tr style=\"text-align: right;\">\n",
       "      <th></th>\n",
       "      <th>Name</th>\n",
       "      <th>Critic_Score</th>\n",
       "      <th>Critic_Count</th>\n",
       "      <th>User_Score</th>\n",
       "      <th>User_Count</th>\n",
       "      <th>Developer</th>\n",
       "      <th>Rating</th>\n",
       "      <th>Rank</th>\n",
       "      <th>Platform</th>\n",
       "      <th>Year</th>\n",
       "      <th>Genre</th>\n",
       "      <th>Publisher</th>\n",
       "      <th>NA_Sales</th>\n",
       "      <th>EU_Sales</th>\n",
       "      <th>JP_Sales</th>\n",
       "      <th>Other_Sales</th>\n",
       "      <th>Global_Sales</th>\n",
       "    </tr>\n",
       "  </thead>\n",
       "  <tbody>\n",
       "    <tr>\n",
       "      <th>0</th>\n",
       "      <td>Wii Sports</td>\n",
       "      <td>76.0</td>\n",
       "      <td>51.0</td>\n",
       "      <td>8</td>\n",
       "      <td>322.0</td>\n",
       "      <td>Nintendo</td>\n",
       "      <td>E</td>\n",
       "      <td>1</td>\n",
       "      <td>Wii</td>\n",
       "      <td>2006.0</td>\n",
       "      <td>Sports</td>\n",
       "      <td>Nintendo</td>\n",
       "      <td>41.49</td>\n",
       "      <td>29.02</td>\n",
       "      <td>3.77</td>\n",
       "      <td>8.46</td>\n",
       "      <td>82.74</td>\n",
       "    </tr>\n",
       "    <tr>\n",
       "      <th>1</th>\n",
       "      <td>Mario Kart Wii</td>\n",
       "      <td>82.0</td>\n",
       "      <td>73.0</td>\n",
       "      <td>8.3</td>\n",
       "      <td>709.0</td>\n",
       "      <td>Nintendo</td>\n",
       "      <td>E</td>\n",
       "      <td>3</td>\n",
       "      <td>Wii</td>\n",
       "      <td>2008.0</td>\n",
       "      <td>Racing</td>\n",
       "      <td>Nintendo</td>\n",
       "      <td>15.85</td>\n",
       "      <td>12.88</td>\n",
       "      <td>3.79</td>\n",
       "      <td>3.31</td>\n",
       "      <td>35.82</td>\n",
       "    </tr>\n",
       "    <tr>\n",
       "      <th>2</th>\n",
       "      <td>Wii Sports Resort</td>\n",
       "      <td>80.0</td>\n",
       "      <td>73.0</td>\n",
       "      <td>8</td>\n",
       "      <td>192.0</td>\n",
       "      <td>Nintendo</td>\n",
       "      <td>E</td>\n",
       "      <td>4</td>\n",
       "      <td>Wii</td>\n",
       "      <td>2009.0</td>\n",
       "      <td>Sports</td>\n",
       "      <td>Nintendo</td>\n",
       "      <td>15.75</td>\n",
       "      <td>11.01</td>\n",
       "      <td>3.28</td>\n",
       "      <td>2.96</td>\n",
       "      <td>33.00</td>\n",
       "    </tr>\n",
       "    <tr>\n",
       "      <th>3</th>\n",
       "      <td>New Super Mario Bros.</td>\n",
       "      <td>89.0</td>\n",
       "      <td>65.0</td>\n",
       "      <td>8.5</td>\n",
       "      <td>431.0</td>\n",
       "      <td>Nintendo</td>\n",
       "      <td>E</td>\n",
       "      <td>7</td>\n",
       "      <td>DS</td>\n",
       "      <td>2006.0</td>\n",
       "      <td>Platform</td>\n",
       "      <td>Nintendo</td>\n",
       "      <td>11.38</td>\n",
       "      <td>9.23</td>\n",
       "      <td>6.50</td>\n",
       "      <td>2.90</td>\n",
       "      <td>30.01</td>\n",
       "    </tr>\n",
       "    <tr>\n",
       "      <th>4</th>\n",
       "      <td>Wii Play</td>\n",
       "      <td>58.0</td>\n",
       "      <td>41.0</td>\n",
       "      <td>6.6</td>\n",
       "      <td>129.0</td>\n",
       "      <td>Nintendo</td>\n",
       "      <td>E</td>\n",
       "      <td>8</td>\n",
       "      <td>Wii</td>\n",
       "      <td>2006.0</td>\n",
       "      <td>Misc</td>\n",
       "      <td>Nintendo</td>\n",
       "      <td>14.03</td>\n",
       "      <td>9.20</td>\n",
       "      <td>2.93</td>\n",
       "      <td>2.85</td>\n",
       "      <td>29.02</td>\n",
       "    </tr>\n",
       "    <tr>\n",
       "      <th>...</th>\n",
       "      <td>...</td>\n",
       "      <td>...</td>\n",
       "      <td>...</td>\n",
       "      <td>...</td>\n",
       "      <td>...</td>\n",
       "      <td>...</td>\n",
       "      <td>...</td>\n",
       "      <td>...</td>\n",
       "      <td>...</td>\n",
       "      <td>...</td>\n",
       "      <td>...</td>\n",
       "      <td>...</td>\n",
       "      <td>...</td>\n",
       "      <td>...</td>\n",
       "      <td>...</td>\n",
       "      <td>...</td>\n",
       "      <td>...</td>\n",
       "    </tr>\n",
       "    <tr>\n",
       "      <th>17431</th>\n",
       "      <td>Metal Gear Solid V: Ground Zeroes</td>\n",
       "      <td>80.0</td>\n",
       "      <td>20.0</td>\n",
       "      <td>7.6</td>\n",
       "      <td>412.0</td>\n",
       "      <td>Kojima Productions</td>\n",
       "      <td>M</td>\n",
       "      <td>3267</td>\n",
       "      <td>PS3</td>\n",
       "      <td>2014.0</td>\n",
       "      <td>Action</td>\n",
       "      <td>Konami Digital Entertainment</td>\n",
       "      <td>0.14</td>\n",
       "      <td>0.14</td>\n",
       "      <td>0.27</td>\n",
       "      <td>0.06</td>\n",
       "      <td>0.62</td>\n",
       "    </tr>\n",
       "    <tr>\n",
       "      <th>17432</th>\n",
       "      <td>Metal Gear Solid V: Ground Zeroes</td>\n",
       "      <td>80.0</td>\n",
       "      <td>20.0</td>\n",
       "      <td>7.6</td>\n",
       "      <td>412.0</td>\n",
       "      <td>Kojima Productions</td>\n",
       "      <td>M</td>\n",
       "      <td>6120</td>\n",
       "      <td>XOne</td>\n",
       "      <td>2014.0</td>\n",
       "      <td>Action</td>\n",
       "      <td>Konami Digital Entertainment</td>\n",
       "      <td>0.15</td>\n",
       "      <td>0.11</td>\n",
       "      <td>0.00</td>\n",
       "      <td>0.02</td>\n",
       "      <td>0.28</td>\n",
       "    </tr>\n",
       "    <tr>\n",
       "      <th>17433</th>\n",
       "      <td>Metal Gear Solid V: Ground Zeroes</td>\n",
       "      <td>80.0</td>\n",
       "      <td>20.0</td>\n",
       "      <td>7.6</td>\n",
       "      <td>412.0</td>\n",
       "      <td>Kojima Productions</td>\n",
       "      <td>M</td>\n",
       "      <td>8755</td>\n",
       "      <td>X360</td>\n",
       "      <td>2014.0</td>\n",
       "      <td>Action</td>\n",
       "      <td>Konami Digital Entertainment</td>\n",
       "      <td>0.07</td>\n",
       "      <td>0.06</td>\n",
       "      <td>0.01</td>\n",
       "      <td>0.01</td>\n",
       "      <td>0.15</td>\n",
       "    </tr>\n",
       "    <tr>\n",
       "      <th>17434</th>\n",
       "      <td>Breach</td>\n",
       "      <td>61.0</td>\n",
       "      <td>12.0</td>\n",
       "      <td>5.8</td>\n",
       "      <td>43.0</td>\n",
       "      <td>Atomic Games</td>\n",
       "      <td>T</td>\n",
       "      <td>16588</td>\n",
       "      <td>PC</td>\n",
       "      <td>2011.0</td>\n",
       "      <td>Shooter</td>\n",
       "      <td>Destineer</td>\n",
       "      <td>0.01</td>\n",
       "      <td>0.00</td>\n",
       "      <td>0.00</td>\n",
       "      <td>0.00</td>\n",
       "      <td>0.01</td>\n",
       "    </tr>\n",
       "    <tr>\n",
       "      <th>17435</th>\n",
       "      <td>STORM: Frontline Nation</td>\n",
       "      <td>60.0</td>\n",
       "      <td>12.0</td>\n",
       "      <td>7.2</td>\n",
       "      <td>13.0</td>\n",
       "      <td>SimBin</td>\n",
       "      <td>E10+</td>\n",
       "      <td>16535</td>\n",
       "      <td>PC</td>\n",
       "      <td>2011.0</td>\n",
       "      <td>Strategy</td>\n",
       "      <td>Unknown</td>\n",
       "      <td>0.00</td>\n",
       "      <td>0.01</td>\n",
       "      <td>0.00</td>\n",
       "      <td>0.00</td>\n",
       "      <td>0.01</td>\n",
       "    </tr>\n",
       "  </tbody>\n",
       "</table>\n",
       "<p>17436 rows × 17 columns</p>\n",
       "</div>"
      ],
      "text/plain": [
       "                                    Name  Critic_Score  Critic_Count  \\\n",
       "0                             Wii Sports          76.0          51.0   \n",
       "1                         Mario Kart Wii          82.0          73.0   \n",
       "2                      Wii Sports Resort          80.0          73.0   \n",
       "3                  New Super Mario Bros.          89.0          65.0   \n",
       "4                               Wii Play          58.0          41.0   \n",
       "...                                  ...           ...           ...   \n",
       "17431  Metal Gear Solid V: Ground Zeroes          80.0          20.0   \n",
       "17432  Metal Gear Solid V: Ground Zeroes          80.0          20.0   \n",
       "17433  Metal Gear Solid V: Ground Zeroes          80.0          20.0   \n",
       "17434                             Breach          61.0          12.0   \n",
       "17435            STORM: Frontline Nation          60.0          12.0   \n",
       "\n",
       "      User_Score  User_Count           Developer Rating   Rank Platform  \\\n",
       "0              8       322.0            Nintendo      E      1      Wii   \n",
       "1            8.3       709.0            Nintendo      E      3      Wii   \n",
       "2              8       192.0            Nintendo      E      4      Wii   \n",
       "3            8.5       431.0            Nintendo      E      7       DS   \n",
       "4            6.6       129.0            Nintendo      E      8      Wii   \n",
       "...          ...         ...                 ...    ...    ...      ...   \n",
       "17431        7.6       412.0  Kojima Productions      M   3267      PS3   \n",
       "17432        7.6       412.0  Kojima Productions      M   6120     XOne   \n",
       "17433        7.6       412.0  Kojima Productions      M   8755     X360   \n",
       "17434        5.8        43.0        Atomic Games      T  16588       PC   \n",
       "17435        7.2        13.0              SimBin   E10+  16535       PC   \n",
       "\n",
       "         Year     Genre                     Publisher  NA_Sales  EU_Sales  \\\n",
       "0      2006.0    Sports                      Nintendo     41.49     29.02   \n",
       "1      2008.0    Racing                      Nintendo     15.85     12.88   \n",
       "2      2009.0    Sports                      Nintendo     15.75     11.01   \n",
       "3      2006.0  Platform                      Nintendo     11.38      9.23   \n",
       "4      2006.0      Misc                      Nintendo     14.03      9.20   \n",
       "...       ...       ...                           ...       ...       ...   \n",
       "17431  2014.0    Action  Konami Digital Entertainment      0.14      0.14   \n",
       "17432  2014.0    Action  Konami Digital Entertainment      0.15      0.11   \n",
       "17433  2014.0    Action  Konami Digital Entertainment      0.07      0.06   \n",
       "17434  2011.0   Shooter                     Destineer      0.01      0.00   \n",
       "17435  2011.0  Strategy                       Unknown      0.00      0.01   \n",
       "\n",
       "       JP_Sales  Other_Sales  Global_Sales  \n",
       "0          3.77         8.46         82.74  \n",
       "1          3.79         3.31         35.82  \n",
       "2          3.28         2.96         33.00  \n",
       "3          6.50         2.90         30.01  \n",
       "4          2.93         2.85         29.02  \n",
       "...         ...          ...           ...  \n",
       "17431      0.27         0.06          0.62  \n",
       "17432      0.00         0.02          0.28  \n",
       "17433      0.01         0.01          0.15  \n",
       "17434      0.00         0.00          0.01  \n",
       "17435      0.00         0.00          0.01  \n",
       "\n",
       "[17436 rows x 17 columns]"
      ]
     },
     "execution_count": 403,
     "metadata": {},
     "output_type": "execute_result"
    }
   ],
   "source": [
    "Final"
   ]
  },
  {
   "cell_type": "markdown",
   "metadata": {},
   "source": [
    "#### Analisis previo de datos"
   ]
  },
  {
   "cell_type": "code",
   "execution_count": 404,
   "metadata": {},
   "outputs": [
    {
     "data": {
      "image/png": "[encoded data removed]",
      "text/plain": [
       "<Figure size 800x600 with 1 Axes>"
      ]
     },
     "metadata": {},
     "output_type": "display_data"
    }
   ],
   "source": [
    "# Sum the sales for each region\n",
    "\n",
    "sales_summary = {\n",
    "\n",
    "    'NA_Sales': Final['NA_Sales'].sum(),\n",
    "\n",
    "    'EU_Sales': Final['EU_Sales'].sum(),\n",
    "\n",
    "    'JP_Sales': Final['JP_Sales'].sum(),\n",
    "\n",
    "    'Other_Sales': Final['Other_Sales'].sum(),\n",
    "\n",
    "}\n",
    "\n",
    "\n",
    "# Convert sales_summary to DataFrame for easier manipulation\n",
    "\n",
    "sales_df = pd.DataFrame(sales_summary, index=[0])\n",
    "\n",
    "\n",
    "# Define colors for each region\n",
    "\n",
    "colors = {\n",
    "\n",
    "    'NA_Sales': '#541690',    # North America\n",
    "\n",
    "    'EU_Sales': '#FF4949',   # Europe\n",
    "\n",
    "    'JP_Sales': '#FF8D29',     # Japan\n",
    "\n",
    "    'Other_Sales': '#FFCD38' # Other regions\n",
    "\n",
    "}\n",
    "\n",
    "\n",
    "plt.figure(figsize=(8, 6))  # Set the figure size\n",
    "\n",
    "plt.pie(sales_summary.values(), labels=sales_summary.keys(), colors=[colors[key] for key in sales_summary.keys()],\n",
    "\n",
    "        autopct='%1.1f%%', startangle=140)\n",
    "\n",
    "\n",
    "plt.title('Ventas por región')\n",
    "\n",
    "plt.axis('equal')  # Equal aspect ratio ensures that pie chart is a circle.\n",
    "\n",
    "plt.tight_layout()  # Adjust layout to prevent clipping of ylabel\n",
    "\n",
    "plt.show()"
   ]
  },
  {
   "cell_type": "code",
   "execution_count": 405,
   "metadata": {},
   "outputs": [
    {
     "data": {
      "image/png": "[encoded data removed]",
      "text/plain": [
       "<Figure size 1000x600 with 1 Axes>"
      ]
     },
     "metadata": {},
     "output_type": "display_data"
    }
   ],
   "source": [
    "grouped_sales = Final.groupby('Developer')['Global_Sales'].sum()\n",
    "grouped_sales = grouped_sales.sort_values(ascending=False).head(20)\n",
    "\n",
    "colors = ['#541690']\n",
    "\n",
    "\n",
    "# Create the bar chart\n",
    "\n",
    "plt.figure(figsize=(10, 6))\n",
    "grouped_sales.plot(kind='bar', color=[colors[i % len(colors)] for i in range(len(grouped_sales))])\n",
    "\n",
    "# Añadir títulos y etiquetas\n",
    "plt.title('Ventas Globales por Desarrollador')\n",
    "plt.xlabel('Desarrollador')\n",
    "plt.ylabel('Ventas Globales (millones)')\n",
    "\n",
    "# Mostrar el gráfico\n",
    "plt.xticks(rotation=90)\n",
    "plt.tight_layout()\n",
    "plt.show()"
   ]
  },
  {
   "cell_type": "code",
   "execution_count": 406,
   "metadata": {},
   "outputs": [
    {
     "data": {
      "image/png": "[encoded data removed]",
      "text/plain": [
       "<Figure size 1000x600 with 1 Axes>"
      ]
     },
     "metadata": {},
     "output_type": "display_data"
    }
   ],
   "source": [
    "grouped_sales = Final.groupby('Genre')['Global_Sales'].sum()\n",
    "grouped_sales = grouped_sales.sort_values(ascending=False).head(20)\n",
    "\n",
    "# Crear el gráfico\n",
    "plt.figure(figsize=(10, 6))\n",
    "grouped_sales.plot(kind='bar', color='#FF4949')\n",
    "\n",
    "# Añadir títulos y etiquetas\n",
    "plt.title('Ventas Globales por Genero')\n",
    "plt.xlabel('Genero')\n",
    "plt.ylabel('Ventas Globales (millones)')\n",
    "\n",
    "# Mostrar el gráfico\n",
    "plt.xticks(rotation=90)\n",
    "plt.tight_layout()\n",
    "plt.show()"
   ]
  },
  {
   "cell_type": "code",
   "execution_count": 407,
   "metadata": {},
   "outputs": [
    {
     "data": {
      "image/png": "[encoded data removed]",
      "text/plain": [
       "<Figure size 1000x600 with 1 Axes>"
      ]
     },
     "metadata": {},
     "output_type": "display_data"
    }
   ],
   "source": [
    "grouped_sales = Final.groupby('Year')['Global_Sales'].sum()\n",
    "grouped_sales = grouped_sales.sort_values(ascending=False).head(20)\n",
    "\n",
    "# Crear el gráfico\n",
    "plt.figure(figsize=(10, 6))\n",
    "grouped_sales.plot(kind='bar', color='#FF8D29')\n",
    "\n",
    "# Añadir títulos y etiquetas\n",
    "plt.title('Ventas Globales por Año')\n",
    "plt.xlabel('Años')\n",
    "plt.ylabel('Ventas Globales (millones)')\n",
    "\n",
    "# Mostrar el gráfico\n",
    "plt.xticks(rotation=90)\n",
    "plt.tight_layout()\n",
    "plt.show()"
   ]
  },
  {
   "cell_type": "code",
   "execution_count": 408,
   "metadata": {},
   "outputs": [
    {
     "data": {
      "image/png": "[encoded data removed]",
      "text/plain": [
       "<Figure size 1000x600 with 1 Axes>"
      ]
     },
     "metadata": {},
     "output_type": "display_data"
    }
   ],
   "source": [
    "# Asegúrate de que 'Rank' y 'Global_Sales' son numéricos\n",
    "\n",
    "Final['Rank'] = pd.to_numeric(Final['Rank'], errors='coerce')\n",
    "\n",
    "Final['Global_Sales'] = pd.to_numeric(Final['Global_Sales'], errors='coerce')\n",
    "\n",
    "\n",
    "# Eliminar filas con NaN en las columnas relevantes (opcional)\n",
    "\n",
    "Final = Final.dropna(subset=['Rank', 'Global_Sales'])\n",
    "\n",
    "\n",
    "# Define the colors to use\n",
    "\n",
    "colors = ['#541690', '#FF4949', '#FF8D29', '#FFCD38']\n",
    "\n",
    "\n",
    "# Crear el gráfico de dispersión\n",
    "\n",
    "plt.figure(figsize=(10, 6))\n",
    "\n",
    "plt.scatter(Final['Rank'], Final['Global_Sales'], alpha=0.6,\n",
    "\n",
    "            c=[colors[i % len(colors)] for i in range(len(Final))])  # Cycle through colors\n",
    "\n",
    "\n",
    "# Añadir títulos y etiquetas\n",
    "\n",
    "plt.title('Gráfico de Dispersión de Global_Sales vs. Rank')\n",
    "\n",
    "plt.xlabel('Rank')\n",
    "\n",
    "plt.ylabel('Global Sales (millones)')\n",
    "\n",
    "\n",
    "# Mostrar el gráfico\n",
    "\n",
    "plt.grid(True)\n",
    "\n",
    "plt.tight_layout()\n",
    "\n",
    "plt.show()"
   ]
  },
  {
   "cell_type": "markdown",
   "metadata": {},
   "source": [
    "## Creando los modelos"
   ]
  },
  {
   "cell_type": "markdown",
   "metadata": {},
   "source": [
    "Al intentar medir el éxito de un videojuego se tomará como indicador de éxito la cantidad de ventas realizadas a nivel global. Para esto se dividirá la muestra en 5 quintiles de ventas y la misión de los modelos de clasificación será lograr predecir el quintil al cual pertenece según distintos datos.\n",
    "\n",
    "Por otro lado, se ajustará un modelo de regresión lineal que intente predecir el logaritmo de las ventas globales para poder entender que factores contribuyen para el aumento de las ventas de un videojuego y cuales disminuyen las mismas.\n",
    "\n",
    "El análisis se dividirá además en 2 conjuntos de variables. En el primer conjunto de datos se intetará ajustar los modelos sin tener ninguna información acerca de las ventas del videojuego. Esto quiere decir que se utilizarán solamente variables propias del videojuego, como pueden ser plataforma, desarrolladora, calificación de los usuarios y calificación de la crítica enter otras.\n",
    "\n",
    "En el segundo análisis se repetirá el proceso pero agregando una variable. Esta variable extra corresponde a la venta del videojuego en un continente. Esto introduce información extra que ayuda a mejorar las predicciones pero para obtener esta información se debió  realizar un lanzamiento del videojuego de forma parcial."
   ]
  },
  {
   "cell_type": "markdown",
   "metadata": {},
   "source": [
    "#### Preparando el DataSet"
   ]
  },
  {
   "cell_type": "code",
   "execution_count": 409,
   "metadata": {},
   "outputs": [
    {
     "name": "stdout",
     "output_type": "stream",
     "text": [
      "<class 'pandas.core.frame.DataFrame'>\n",
      "RangeIndex: 17436 entries, 0 to 17435\n",
      "Data columns (total 17 columns):\n",
      " #   Column        Non-Null Count  Dtype  \n",
      "---  ------        --------------  -----  \n",
      " 0   Name          17436 non-null  object \n",
      " 1   Critic_Score  17436 non-null  float64\n",
      " 2   Critic_Count  17436 non-null  float64\n",
      " 3   User_Score    17436 non-null  object \n",
      " 4   User_Count    17436 non-null  float64\n",
      " 5   Developer     17436 non-null  object \n",
      " 6   Rating        17436 non-null  object \n",
      " 7   Rank          17436 non-null  int64  \n",
      " 8   Platform      17436 non-null  object \n",
      " 9   Year          17436 non-null  float64\n",
      " 10  Genre         17436 non-null  object \n",
      " 11  Publisher     17436 non-null  object \n",
      " 12  NA_Sales      17436 non-null  float64\n",
      " 13  EU_Sales      17436 non-null  float64\n",
      " 14  JP_Sales      17436 non-null  float64\n",
      " 15  Other_Sales   17436 non-null  float64\n",
      " 16  Global_Sales  17436 non-null  float64\n",
      "dtypes: float64(9), int64(1), object(7)\n",
      "memory usage: 2.3+ MB\n"
     ]
    }
   ],
   "source": [
    "# Recuperemos todos las columnas no númericas\n",
    "\n",
    "Final.info()"
   ]
  },
  {
   "cell_type": "code",
   "execution_count": 410,
   "metadata": {},
   "outputs": [
    {
     "data": {
      "text/html": [
       "<div>\n",
       "<style scoped>\n",
       "    .dataframe tbody tr th:only-of-type {\n",
       "        vertical-align: middle;\n",
       "    }\n",
       "\n",
       "    .dataframe tbody tr th {\n",
       "        vertical-align: top;\n",
       "    }\n",
       "\n",
       "    .dataframe thead th {\n",
       "        text-align: right;\n",
       "    }\n",
       "</style>\n",
       "<table border=\"1\" class=\"dataframe\">\n",
       "  <thead>\n",
       "    <tr style=\"text-align: right;\">\n",
       "      <th></th>\n",
       "      <th>Name</th>\n",
       "      <th>Critic_Score</th>\n",
       "      <th>Critic_Count</th>\n",
       "      <th>User_Score</th>\n",
       "      <th>User_Count</th>\n",
       "      <th>Developer</th>\n",
       "      <th>Rating</th>\n",
       "      <th>Rank</th>\n",
       "      <th>Platform</th>\n",
       "      <th>Year</th>\n",
       "      <th>Genre</th>\n",
       "      <th>Publisher</th>\n",
       "      <th>Global_Sales</th>\n",
       "    </tr>\n",
       "  </thead>\n",
       "  <tbody>\n",
       "    <tr>\n",
       "      <th>0</th>\n",
       "      <td>Wii Sports</td>\n",
       "      <td>76.0</td>\n",
       "      <td>51.0</td>\n",
       "      <td>8</td>\n",
       "      <td>322.0</td>\n",
       "      <td>Nintendo</td>\n",
       "      <td>E</td>\n",
       "      <td>1</td>\n",
       "      <td>Wii</td>\n",
       "      <td>2006.0</td>\n",
       "      <td>Sports</td>\n",
       "      <td>Nintendo</td>\n",
       "      <td>82.74</td>\n",
       "    </tr>\n",
       "    <tr>\n",
       "      <th>1</th>\n",
       "      <td>Mario Kart Wii</td>\n",
       "      <td>82.0</td>\n",
       "      <td>73.0</td>\n",
       "      <td>8.3</td>\n",
       "      <td>709.0</td>\n",
       "      <td>Nintendo</td>\n",
       "      <td>E</td>\n",
       "      <td>3</td>\n",
       "      <td>Wii</td>\n",
       "      <td>2008.0</td>\n",
       "      <td>Racing</td>\n",
       "      <td>Nintendo</td>\n",
       "      <td>35.82</td>\n",
       "    </tr>\n",
       "    <tr>\n",
       "      <th>2</th>\n",
       "      <td>Wii Sports Resort</td>\n",
       "      <td>80.0</td>\n",
       "      <td>73.0</td>\n",
       "      <td>8</td>\n",
       "      <td>192.0</td>\n",
       "      <td>Nintendo</td>\n",
       "      <td>E</td>\n",
       "      <td>4</td>\n",
       "      <td>Wii</td>\n",
       "      <td>2009.0</td>\n",
       "      <td>Sports</td>\n",
       "      <td>Nintendo</td>\n",
       "      <td>33.00</td>\n",
       "    </tr>\n",
       "    <tr>\n",
       "      <th>3</th>\n",
       "      <td>New Super Mario Bros.</td>\n",
       "      <td>89.0</td>\n",
       "      <td>65.0</td>\n",
       "      <td>8.5</td>\n",
       "      <td>431.0</td>\n",
       "      <td>Nintendo</td>\n",
       "      <td>E</td>\n",
       "      <td>7</td>\n",
       "      <td>DS</td>\n",
       "      <td>2006.0</td>\n",
       "      <td>Platform</td>\n",
       "      <td>Nintendo</td>\n",
       "      <td>30.01</td>\n",
       "    </tr>\n",
       "    <tr>\n",
       "      <th>4</th>\n",
       "      <td>Wii Play</td>\n",
       "      <td>58.0</td>\n",
       "      <td>41.0</td>\n",
       "      <td>6.6</td>\n",
       "      <td>129.0</td>\n",
       "      <td>Nintendo</td>\n",
       "      <td>E</td>\n",
       "      <td>8</td>\n",
       "      <td>Wii</td>\n",
       "      <td>2006.0</td>\n",
       "      <td>Misc</td>\n",
       "      <td>Nintendo</td>\n",
       "      <td>29.02</td>\n",
       "    </tr>\n",
       "    <tr>\n",
       "      <th>...</th>\n",
       "      <td>...</td>\n",
       "      <td>...</td>\n",
       "      <td>...</td>\n",
       "      <td>...</td>\n",
       "      <td>...</td>\n",
       "      <td>...</td>\n",
       "      <td>...</td>\n",
       "      <td>...</td>\n",
       "      <td>...</td>\n",
       "      <td>...</td>\n",
       "      <td>...</td>\n",
       "      <td>...</td>\n",
       "      <td>...</td>\n",
       "    </tr>\n",
       "    <tr>\n",
       "      <th>17431</th>\n",
       "      <td>Metal Gear Solid V: Ground Zeroes</td>\n",
       "      <td>80.0</td>\n",
       "      <td>20.0</td>\n",
       "      <td>7.6</td>\n",
       "      <td>412.0</td>\n",
       "      <td>Kojima Productions</td>\n",
       "      <td>M</td>\n",
       "      <td>3267</td>\n",
       "      <td>PS3</td>\n",
       "      <td>2014.0</td>\n",
       "      <td>Action</td>\n",
       "      <td>Konami Digital Entertainment</td>\n",
       "      <td>0.62</td>\n",
       "    </tr>\n",
       "    <tr>\n",
       "      <th>17432</th>\n",
       "      <td>Metal Gear Solid V: Ground Zeroes</td>\n",
       "      <td>80.0</td>\n",
       "      <td>20.0</td>\n",
       "      <td>7.6</td>\n",
       "      <td>412.0</td>\n",
       "      <td>Kojima Productions</td>\n",
       "      <td>M</td>\n",
       "      <td>6120</td>\n",
       "      <td>XOne</td>\n",
       "      <td>2014.0</td>\n",
       "      <td>Action</td>\n",
       "      <td>Konami Digital Entertainment</td>\n",
       "      <td>0.28</td>\n",
       "    </tr>\n",
       "    <tr>\n",
       "      <th>17433</th>\n",
       "      <td>Metal Gear Solid V: Ground Zeroes</td>\n",
       "      <td>80.0</td>\n",
       "      <td>20.0</td>\n",
       "      <td>7.6</td>\n",
       "      <td>412.0</td>\n",
       "      <td>Kojima Productions</td>\n",
       "      <td>M</td>\n",
       "      <td>8755</td>\n",
       "      <td>X360</td>\n",
       "      <td>2014.0</td>\n",
       "      <td>Action</td>\n",
       "      <td>Konami Digital Entertainment</td>\n",
       "      <td>0.15</td>\n",
       "    </tr>\n",
       "    <tr>\n",
       "      <th>17434</th>\n",
       "      <td>Breach</td>\n",
       "      <td>61.0</td>\n",
       "      <td>12.0</td>\n",
       "      <td>5.8</td>\n",
       "      <td>43.0</td>\n",
       "      <td>Atomic Games</td>\n",
       "      <td>T</td>\n",
       "      <td>16588</td>\n",
       "      <td>PC</td>\n",
       "      <td>2011.0</td>\n",
       "      <td>Shooter</td>\n",
       "      <td>Destineer</td>\n",
       "      <td>0.01</td>\n",
       "    </tr>\n",
       "    <tr>\n",
       "      <th>17435</th>\n",
       "      <td>STORM: Frontline Nation</td>\n",
       "      <td>60.0</td>\n",
       "      <td>12.0</td>\n",
       "      <td>7.2</td>\n",
       "      <td>13.0</td>\n",
       "      <td>SimBin</td>\n",
       "      <td>E10+</td>\n",
       "      <td>16535</td>\n",
       "      <td>PC</td>\n",
       "      <td>2011.0</td>\n",
       "      <td>Strategy</td>\n",
       "      <td>Unknown</td>\n",
       "      <td>0.01</td>\n",
       "    </tr>\n",
       "  </tbody>\n",
       "</table>\n",
       "<p>17436 rows × 13 columns</p>\n",
       "</div>"
      ],
      "text/plain": [
       "                                    Name  Critic_Score  Critic_Count  \\\n",
       "0                             Wii Sports          76.0          51.0   \n",
       "1                         Mario Kart Wii          82.0          73.0   \n",
       "2                      Wii Sports Resort          80.0          73.0   \n",
       "3                  New Super Mario Bros.          89.0          65.0   \n",
       "4                               Wii Play          58.0          41.0   \n",
       "...                                  ...           ...           ...   \n",
       "17431  Metal Gear Solid V: Ground Zeroes          80.0          20.0   \n",
       "17432  Metal Gear Solid V: Ground Zeroes          80.0          20.0   \n",
       "17433  Metal Gear Solid V: Ground Zeroes          80.0          20.0   \n",
       "17434                             Breach          61.0          12.0   \n",
       "17435            STORM: Frontline Nation          60.0          12.0   \n",
       "\n",
       "      User_Score  User_Count           Developer Rating   Rank Platform  \\\n",
       "0              8       322.0            Nintendo      E      1      Wii   \n",
       "1            8.3       709.0            Nintendo      E      3      Wii   \n",
       "2              8       192.0            Nintendo      E      4      Wii   \n",
       "3            8.5       431.0            Nintendo      E      7       DS   \n",
       "4            6.6       129.0            Nintendo      E      8      Wii   \n",
       "...          ...         ...                 ...    ...    ...      ...   \n",
       "17431        7.6       412.0  Kojima Productions      M   3267      PS3   \n",
       "17432        7.6       412.0  Kojima Productions      M   6120     XOne   \n",
       "17433        7.6       412.0  Kojima Productions      M   8755     X360   \n",
       "17434        5.8        43.0        Atomic Games      T  16588       PC   \n",
       "17435        7.2        13.0              SimBin   E10+  16535       PC   \n",
       "\n",
       "         Year     Genre                     Publisher  Global_Sales  \n",
       "0      2006.0    Sports                      Nintendo         82.74  \n",
       "1      2008.0    Racing                      Nintendo         35.82  \n",
       "2      2009.0    Sports                      Nintendo         33.00  \n",
       "3      2006.0  Platform                      Nintendo         30.01  \n",
       "4      2006.0      Misc                      Nintendo         29.02  \n",
       "...       ...       ...                           ...           ...  \n",
       "17431  2014.0    Action  Konami Digital Entertainment          0.62  \n",
       "17432  2014.0    Action  Konami Digital Entertainment          0.28  \n",
       "17433  2014.0    Action  Konami Digital Entertainment          0.15  \n",
       "17434  2011.0   Shooter                     Destineer          0.01  \n",
       "17435  2011.0  Strategy                       Unknown          0.01  \n",
       "\n",
       "[17436 rows x 13 columns]"
      ]
     },
     "execution_count": 410,
     "metadata": {},
     "output_type": "execute_result"
    }
   ],
   "source": [
    "#Drop todas las columnas que se repiten información\n",
    "#Final = Final.drop(columns=['NA_Sales', 'EU_Sales', 'NA_Sales', 'JP_Sales', 'Other_Sales'])\n",
    "df_con_ventas = Final\n",
    "Final = Final.drop(columns=['EU_Sales', 'JP_Sales', 'Other_Sales', \"NA_Sales\"])\n",
    "\n",
    "Final"
   ]
  },
  {
   "cell_type": "code",
   "execution_count": 411,
   "metadata": {},
   "outputs": [
    {
     "name": "stdout",
     "output_type": "stream",
     "text": [
      "Los valores no númericos son: Name, User_Score, Developer, Rating, Platform, Genre, y Publisher\n"
     ]
    }
   ],
   "source": [
    "# Recuperemos todos las columnas no númericas\n",
    "object_columns = Final.select_dtypes(include=['object']).columns\n",
    "object_columns\n",
    "columnas_no_numericas = {}\n",
    "\n",
    "for index in object_columns:\n",
    "    columnas_no_numericas[index] = list(Final[index])\n",
    "\n",
    "text = 'Los valores no númericos son: '\n",
    "\n",
    "for value in columnas_no_numericas.keys():\n",
    "    if value != 'Publisher':\n",
    "        text += f\"{value}, \"\n",
    "    else:\n",
    "        text += f\"y {value}\"\n",
    "print(text)"
   ]
  },
  {
   "cell_type": "code",
   "execution_count": 412,
   "metadata": {},
   "outputs": [
    {
     "name": "stdout",
     "output_type": "stream",
     "text": [
      "<class 'pandas.core.frame.DataFrame'>\n",
      "RangeIndex: 17436 entries, 0 to 17435\n",
      "Data columns (total 73 columns):\n",
      " #   Column              Non-Null Count  Dtype  \n",
      "---  ------              --------------  -----  \n",
      " 0   Critic_Score        17436 non-null  float64\n",
      " 1   Critic_Count        17436 non-null  float64\n",
      " 2   User_Score          17436 non-null  int64  \n",
      " 3   User_Count          17436 non-null  float64\n",
      " 4   Rating              17436 non-null  int64  \n",
      " 5   Rank                17436 non-null  int64  \n",
      " 6   Global_Sales        17436 non-null  float64\n",
      " 7   Platform_3DS        17436 non-null  int64  \n",
      " 8   Platform_DC         17436 non-null  int64  \n",
      " 9   Platform_DS         17436 non-null  int64  \n",
      " 10  Platform_GB         17436 non-null  int64  \n",
      " 11  Platform_GBA        17436 non-null  int64  \n",
      " 12  Platform_GC         17436 non-null  int64  \n",
      " 13  Platform_GEN        17436 non-null  int64  \n",
      " 14  Platform_N64        17436 non-null  int64  \n",
      " 15  Platform_NES        17436 non-null  int64  \n",
      " 16  Platform_PC         17436 non-null  int64  \n",
      " 17  Platform_PS         17436 non-null  int64  \n",
      " 18  Platform_PS2        17436 non-null  int64  \n",
      " 19  Platform_PS3        17436 non-null  int64  \n",
      " 20  Platform_PS4        17436 non-null  int64  \n",
      " 21  Platform_PSP        17436 non-null  int64  \n",
      " 22  Platform_PSV        17436 non-null  int64  \n",
      " 23  Platform_SAT        17436 non-null  int64  \n",
      " 24  Platform_SNES       17436 non-null  int64  \n",
      " 25  Platform_Wii        17436 non-null  int64  \n",
      " 26  Platform_WiiU       17436 non-null  int64  \n",
      " 27  Platform_X360       17436 non-null  int64  \n",
      " 28  Platform_XB         17436 non-null  int64  \n",
      " 29  Platform_XOne       17436 non-null  int64  \n",
      " 30  Genre_Adventure     17436 non-null  int64  \n",
      " 31  Genre_Fighting      17436 non-null  int64  \n",
      " 32  Genre_Misc          17436 non-null  int64  \n",
      " 33  Genre_Platform      17436 non-null  int64  \n",
      " 34  Genre_Puzzle        17436 non-null  int64  \n",
      " 35  Genre_Racing        17436 non-null  int64  \n",
      " 36  Genre_Role-Playing  17436 non-null  int64  \n",
      " 37  Genre_Shooter       17436 non-null  int64  \n",
      " 38  Genre_Simulation    17436 non-null  int64  \n",
      " 39  Genre_Sports        17436 non-null  int64  \n",
      " 40  Genre_Strategy      17436 non-null  int64  \n",
      " 41  Year_1980.0         17436 non-null  int64  \n",
      " 42  Year_1981.0         17436 non-null  int64  \n",
      " 43  Year_1982.0         17436 non-null  int64  \n",
      " 44  Year_1985.0         17436 non-null  int64  \n",
      " 45  Year_1988.0         17436 non-null  int64  \n",
      " 46  Year_1989.0         17436 non-null  int64  \n",
      " 47  Year_1990.0         17436 non-null  int64  \n",
      " 48  Year_1991.0         17436 non-null  int64  \n",
      " 49  Year_1992.0         17436 non-null  int64  \n",
      " 50  Year_1994.0         17436 non-null  int64  \n",
      " 51  Year_1995.0         17436 non-null  int64  \n",
      " 52  Year_1996.0         17436 non-null  int64  \n",
      " 53  Year_1997.0         17436 non-null  int64  \n",
      " 54  Year_1998.0         17436 non-null  int64  \n",
      " 55  Year_1999.0         17436 non-null  int64  \n",
      " 56  Year_2000.0         17436 non-null  int64  \n",
      " 57  Year_2001.0         17436 non-null  int64  \n",
      " 58  Year_2002.0         17436 non-null  int64  \n",
      " 59  Year_2003.0         17436 non-null  int64  \n",
      " 60  Year_2004.0         17436 non-null  int64  \n",
      " 61  Year_2005.0         17436 non-null  int64  \n",
      " 62  Year_2006.0         17436 non-null  int64  \n",
      " 63  Year_2007.0         17436 non-null  int64  \n",
      " 64  Year_2008.0         17436 non-null  int64  \n",
      " 65  Year_2009.0         17436 non-null  int64  \n",
      " 66  Year_2010.0         17436 non-null  int64  \n",
      " 67  Year_2011.0         17436 non-null  int64  \n",
      " 68  Year_2012.0         17436 non-null  int64  \n",
      " 69  Year_2013.0         17436 non-null  int64  \n",
      " 70  Year_2014.0         17436 non-null  int64  \n",
      " 71  Year_2015.0         17436 non-null  int64  \n",
      " 72  Year_2016.0         17436 non-null  int64  \n",
      "dtypes: float64(4), int64(69)\n",
      "memory usage: 9.7 MB\n"
     ]
    }
   ],
   "source": [
    "# Nos saltaremos los nombres porque no afecta a la predicción\n",
    "\n",
    "# Volvemos Los User_Score y rating a númerico\n",
    "Final['User_Score'] = pd.to_numeric(Final['User_Score'], errors='coerce')  # Convert to float, coercing errors to NaN\n",
    "Final['User_Score'] = Final['User_Score'].fillna(0).astype(int)  # Fill NaN with 0 and convert to int\n",
    "\n",
    "Final['Rating'] = pd.to_numeric(Final['User_Score'], errors='coerce')  # Convert to float, coercing errors to NaN\n",
    "Final['Rating'] = Final['User_Score'].fillna(0).astype(int)  # Fill NaN with 0 and convert to int\n",
    "\n",
    "#Creamos dummies para los valores que se pueden cuantificar.\n",
    "# #Platform, Genre\n",
    "Year_dummies = pd.get_dummies(Final['Year'], prefix='Year', drop_first=True)\n",
    "Plat_dummies = pd.get_dummies(Final['Platform'], prefix='Platform', drop_first=True)\n",
    "Gen_dummies = pd.get_dummies(Final['Genre'], prefix='Genre', drop_first=True)\n",
    "\n",
    "Publisher_dummies = pd.get_dummies(Final['Publisher'], prefix='Publisher', drop_first=True)\n",
    "Developer_dummies = pd.get_dummies(Final['Developer'], prefix='Developer', drop_first=True)\n",
    "\n",
    "\n",
    "\n",
    "\n",
    "Final_with_dummies = pd.concat([Final, Plat_dummies, Gen_dummies, Year_dummies], axis=1)\n",
    "Final_with_dummies = Final_with_dummies.drop(columns=['Name','Developer', 'Platform', 'Genre', 'Publisher', \"Year\"])\n",
    "Final_with_dummies[Final_with_dummies.select_dtypes(include=['bool']).columns] = Final_with_dummies.select_dtypes(include=['bool']).astype(int)\n",
    "Final_with_dummies\n",
    "Final = Final_with_dummies\n",
    "Final.info()"
   ]
  },
  {
   "cell_type": "code",
   "execution_count": 413,
   "metadata": {},
   "outputs": [],
   "source": [
    "X = Final.drop(columns=['Global_Sales'])\n",
    "X = X.drop(columns=['Rank']) #Es el ranking de cuanto ha vendido, no es conveniente en el análisis\n",
    "y = Final['Global_Sales']"
   ]
  },
  {
   "cell_type": "code",
   "execution_count": null,
   "metadata": {},
   "outputs": [],
   "source": []
  },
  {
   "cell_type": "code",
   "execution_count": 414,
   "metadata": {},
   "outputs": [
    {
     "name": "stdout",
     "output_type": "stream",
     "text": [
      "0        5\n",
      "1        5\n",
      "2        5\n",
      "3        5\n",
      "4        5\n",
      "        ..\n",
      "17431    4\n",
      "17432    3\n",
      "17433    2\n",
      "17434    1\n",
      "17435    1\n",
      "Name: Global_Sales, Length: 17436, dtype: int64\n"
     ]
    }
   ],
   "source": [
    "# Suponiendo que tienes X y y ya definidos\n",
    "\n",
    "# Estandarizamos X\n",
    "scaler = StandardScaler()\n",
    "X_scaled = scaler.fit_transform(X)\n",
    "\n",
    "# Calculamos los deciles\n",
    "deciles = pd.qcut(y, q=5, labels=False)  # Genera índices de 0 a 9 para los deciles\n",
    "\n",
    "# Ajustamos las etiquetas para que representen los deciles\n",
    "y_discrete = deciles + 1  # Para tener etiquetas de 1 a 10 en lugar de 0 a 9\n",
    "\n",
    "# Opcional: conviertes a entero explícitamente si es necesario\n",
    "y_discrete = y_discrete.astype(int)\n",
    "\n",
    "# Mostrar los valores transformados\n",
    "print(y_discrete)"
   ]
  },
  {
   "cell_type": "markdown",
   "metadata": {},
   "source": [
    "#### Seleccionando el modelo"
   ]
  },
  {
   "cell_type": "code",
   "execution_count": 415,
   "metadata": {},
   "outputs": [],
   "source": [
    "X_train, X_test, y_train, y_test = train_test_split(X_scaled, y_discrete, test_size=0.25, random_state=99)\n",
    "\n",
    "#Esta función nos entrega la información del desempeño de un modelo. será utilizada par avaluar los distintos modelos.\n",
    "def probar_modelo(modelo, nombre_modelo):\n",
    "    modelo.fit(X_train, y_train)\n",
    "    predichos = modelo.predict(X_test)\n",
    "    reporte = classification_report(y_test, predichos)\n",
    "    cros_val = cross_val_score(modelo, X_scaled, y_discrete)\n",
    "    print(f\"Usando {nombre_modelo}:\\n{reporte}\\nCross-Validation Score:{np.mean(cros_val):.3f}\")\n",
    "    return modelo\n"
   ]
  },
  {
   "cell_type": "markdown",
   "metadata": {},
   "source": [
    "## Parte 1"
   ]
  },
  {
   "cell_type": "code",
   "execution_count": 416,
   "metadata": {},
   "outputs": [
    {
     "name": "stdout",
     "output_type": "stream",
     "text": [
      "Usando Regresión logística:\n",
      "              precision    recall  f1-score   support\n",
      "\n",
      "           1       0.53      0.58      0.55       916\n",
      "           2       0.31      0.33      0.32       863\n",
      "           3       0.25      0.20      0.22       838\n",
      "           4       0.30      0.22      0.25       822\n",
      "           5       0.49      0.62      0.55       920\n",
      "\n",
      "    accuracy                           0.40      4359\n",
      "   macro avg       0.38      0.39      0.38      4359\n",
      "weighted avg       0.38      0.40      0.39      4359\n",
      "\n",
      "Cross-Validation Score:0.379\n"
     ]
    }
   ],
   "source": [
    "# Regresion logística \n",
    "regr = probar_modelo(LogisticRegression(max_iter=500), \"Regresión logística\")"
   ]
  },
  {
   "cell_type": "code",
   "execution_count": 417,
   "metadata": {},
   "outputs": [
    {
     "name": "stdout",
     "output_type": "stream",
     "text": [
      "Usando Clasificador KNN:\n",
      "              precision    recall  f1-score   support\n",
      "\n",
      "           1       0.53      0.60      0.56       916\n",
      "           2       0.38      0.42      0.40       863\n",
      "           3       0.39      0.36      0.37       838\n",
      "           4       0.37      0.39      0.38       822\n",
      "           5       0.60      0.47      0.52       920\n",
      "\n",
      "    accuracy                           0.45      4359\n",
      "   macro avg       0.45      0.45      0.45      4359\n",
      "weighted avg       0.46      0.45      0.45      4359\n",
      "\n",
      "Cross-Validation Score:0.444\n"
     ]
    }
   ],
   "source": [
    "# Clasificador KNN\n",
    "KNN = probar_modelo(KNeighborsClassifier(), \"Clasificador KNN\")"
   ]
  },
  {
   "cell_type": "code",
   "execution_count": 418,
   "metadata": {},
   "outputs": [
    {
     "name": "stdout",
     "output_type": "stream",
     "text": [
      "Usando Arbol de decision:\n",
      "              precision    recall  f1-score   support\n",
      "\n",
      "           1       0.57      0.51      0.54       916\n",
      "           2       0.34      0.36      0.35       863\n",
      "           3       0.32      0.33      0.33       838\n",
      "           4       0.32      0.34      0.33       822\n",
      "           5       0.53      0.52      0.52       920\n",
      "\n",
      "    accuracy                           0.42      4359\n",
      "   macro avg       0.42      0.41      0.41      4359\n",
      "weighted avg       0.42      0.42      0.42      4359\n",
      "\n",
      "Cross-Validation Score:0.323\n"
     ]
    }
   ],
   "source": [
    "# Arbol de decision\n",
    "arbol_decision = probar_modelo(DecisionTreeClassifier(), \"Arbol de decision\")"
   ]
  },
  {
   "cell_type": "code",
   "execution_count": 419,
   "metadata": {},
   "outputs": [
    {
     "name": "stdout",
     "output_type": "stream",
     "text": [
      "Usando Random Forest:\n",
      "              precision    recall  f1-score   support\n",
      "\n",
      "           1       0.63      0.62      0.63       916\n",
      "           2       0.45      0.47      0.46       863\n",
      "           3       0.47      0.40      0.43       838\n",
      "           4       0.45      0.47      0.46       822\n",
      "           5       0.63      0.68      0.66       920\n",
      "\n",
      "    accuracy                           0.53      4359\n",
      "   macro avg       0.53      0.53      0.53      4359\n",
      "weighted avg       0.53      0.53      0.53      4359\n",
      "\n",
      "Cross-Validation Score:0.438\n"
     ]
    }
   ],
   "source": [
    "# Random Forest\n",
    "random_forest = probar_modelo(RandomForestClassifier(), \"Random Forest\")"
   ]
  },
  {
   "cell_type": "markdown",
   "metadata": {},
   "source": [
    "De entre todos los modelo evaluados el que mejor desempeño presenta es el random forest, ya que su desempeño es ligeramente inferior al presentado por el clasificador KNN en terminos de precision en las validaciones curzadas, pero con un mejor resultados para recall y F1 score.\n",
    "\n",
    "Independiente de esto, podemos ver que la precision en las validaciones cruzadas fue de 0.43% lo cual es inidicio de un mal desempeño del clasificador ya que una elección aleatoria tendría un deseméño de 20%. Esto es un indicador de que la información que se les está entregando a los modelos es insuficiente para predecir el quintil al cual pertenece un videojuego."
   ]
  },
  {
   "cell_type": "code",
   "execution_count": 420,
   "metadata": {},
   "outputs": [
    {
     "name": "stdout",
     "output_type": "stream",
     "text": [
      "         feature  importance\n",
      "3     User_Count    0.166878\n",
      "0   Critic_Score    0.161063\n",
      "1   Critic_Count    0.147223\n",
      "2     User_Score    0.052363\n",
      "4         Rating    0.051482\n",
      "..           ...         ...\n",
      "39   Year_1980.0    0.000050\n",
      "41   Year_1982.0    0.000040\n",
      "40   Year_1981.0    0.000027\n",
      "43   Year_1988.0    0.000017\n",
      "45   Year_1990.0    0.000000\n",
      "\n",
      "[71 rows x 2 columns]\n"
     ]
    }
   ],
   "source": [
    "\n",
    "\n",
    "\n",
    "feature_importance = pd.DataFrame({\n",
    "    'feature': X.columns,\n",
    "    'importance': random_forest.feature_importances_\n",
    "}).sort_values('importance', ascending=False)\n",
    "\n",
    "print(feature_importance)"
   ]
  },
  {
   "cell_type": "markdown",
   "metadata": {},
   "source": [
    "Podemos ver que dentro de la relevancia del random forest, los indicadores a los cuales se les da más relevancia son la cantidad de usuarios, la puntuación de las críticas por parte de los especialista y finalmente la cantidad de críticas."
   ]
  },
  {
   "cell_type": "markdown",
   "metadata": {},
   "source": []
  },
  {
   "cell_type": "markdown",
   "metadata": {},
   "source": [
    "### Regresion Lineal"
   ]
  },
  {
   "cell_type": "code",
   "execution_count": 421,
   "metadata": {},
   "outputs": [
    {
     "name": "stdout",
     "output_type": "stream",
     "text": [
      "R^2: 0.3326\n"
     ]
    }
   ],
   "source": [
    "import numpy as np\n",
    "import matplotlib.pyplot as plt\n",
    "from sklearn.linear_model import LinearRegression\n",
    "from sklearn.metrics import r2_score\n",
    "\n",
    "# Suponemos que X es un DataFrame con nombres de columnas\n",
    "regresion = LinearRegression()\n",
    "\n",
    "\n",
    "#X[\"NA_Sales\"] = np.log(X[\"NA_Sales\"] + 1)\n",
    "\n",
    "# Ajustamos la regresión\n",
    "regresion.fit(X, np.log(Final[\"Global_Sales\"] + 1))\n",
    "\n",
    "\n",
    "\n",
    "# Calculamos el R^2\n",
    "y_pred = regresion.predict(X)\n",
    "r2 = r2_score(np.log(Final[\"Global_Sales\"] + 1), y_pred)\n",
    "print(f\"R^2: {r2:.4f}\")"
   ]
  },
  {
   "cell_type": "markdown",
   "metadata": {},
   "source": [
    "Podemos ver que al ajustar una regresión la cual intente predecir el valor del logaritmo de las ventas se consigue explicar el 0.33 de la variabilidad natural de los datos. Esto es un nuevo indicativo de que la información proporcionada no es suficiente para predecir las ventas del videojuego."
   ]
  },
  {
   "cell_type": "markdown",
   "metadata": {},
   "source": [
    "## Parte 2"
   ]
  },
  {
   "cell_type": "markdown",
   "metadata": {},
   "source": [
    "Agregamos la información adicional de las ventas de un continente"
   ]
  },
  {
   "cell_type": "code",
   "execution_count": 422,
   "metadata": {},
   "outputs": [],
   "source": [
    "nombres = X.columns\n",
    "X = pd.DataFrame(X_scaled)\n",
    "\n",
    "X.columns = nombres\n",
    "\n",
    "X[\"EU_Sales\"] = pd.to_numeric(df_con_ventas['EU_Sales'], errors='coerce')\n",
    "\n",
    "# Estandarizamos X\n",
    "scaler = StandardScaler()\n",
    "X_scaled = scaler.fit_transform(X)\n",
    "\n",
    "X_train, X_test, y_train, y_test = train_test_split(X_scaled, y_discrete, test_size=0.25, random_state=99)\n"
   ]
  },
  {
   "cell_type": "code",
   "execution_count": 423,
   "metadata": {},
   "outputs": [
    {
     "name": "stdout",
     "output_type": "stream",
     "text": [
      "Usando Regresión logística:\n",
      "              precision    recall  f1-score   support\n",
      "\n",
      "           1       0.73      0.74      0.74       916\n",
      "           2       0.50      0.59      0.54       863\n",
      "           3       0.48      0.46      0.47       838\n",
      "           4       0.55      0.52      0.54       822\n",
      "           5       0.84      0.77      0.80       920\n",
      "\n",
      "    accuracy                           0.62      4359\n",
      "   macro avg       0.62      0.62      0.62      4359\n",
      "weighted avg       0.63      0.62      0.62      4359\n",
      "\n",
      "Cross-Validation Score:0.602\n"
     ]
    }
   ],
   "source": [
    "regr = probar_modelo(LogisticRegression(max_iter=500), \"Regresión logística\")"
   ]
  },
  {
   "cell_type": "code",
   "execution_count": 424,
   "metadata": {},
   "outputs": [
    {
     "name": "stdout",
     "output_type": "stream",
     "text": [
      "Usando Clasificador KNN:\n",
      "              precision    recall  f1-score   support\n",
      "\n",
      "           1       0.53      0.60      0.57       916\n",
      "           2       0.39      0.45      0.42       863\n",
      "           3       0.39      0.38      0.39       838\n",
      "           4       0.40      0.41      0.41       822\n",
      "           5       0.75      0.55      0.63       920\n",
      "\n",
      "    accuracy                           0.48      4359\n",
      "   macro avg       0.49      0.48      0.48      4359\n",
      "weighted avg       0.50      0.48      0.49      4359\n",
      "\n",
      "Cross-Validation Score:0.475\n"
     ]
    }
   ],
   "source": [
    "KNN = probar_modelo(KNeighborsClassifier(), \"Clasificador KNN\")"
   ]
  },
  {
   "cell_type": "code",
   "execution_count": 425,
   "metadata": {},
   "outputs": [
    {
     "name": "stdout",
     "output_type": "stream",
     "text": [
      "Usando Arbol de decision:\n",
      "              precision    recall  f1-score   support\n",
      "\n",
      "           1       0.82      0.79      0.80       916\n",
      "           2       0.71      0.71      0.71       863\n",
      "           3       0.71      0.74      0.72       838\n",
      "           4       0.77      0.79      0.78       822\n",
      "           5       0.91      0.88      0.89       920\n",
      "\n",
      "    accuracy                           0.78      4359\n",
      "   macro avg       0.78      0.78      0.78      4359\n",
      "weighted avg       0.78      0.78      0.78      4359\n",
      "\n",
      "Cross-Validation Score:0.729\n"
     ]
    }
   ],
   "source": [
    "arbol_decision = probar_modelo(DecisionTreeClassifier(), \"Arbol de decision\")"
   ]
  },
  {
   "cell_type": "code",
   "execution_count": 426,
   "metadata": {},
   "outputs": [
    {
     "name": "stdout",
     "output_type": "stream",
     "text": [
      "Usando Random Forest:\n",
      "              precision    recall  f1-score   support\n",
      "\n",
      "           1       0.85      0.82      0.83       916\n",
      "           2       0.69      0.78      0.73       863\n",
      "           3       0.75      0.74      0.74       838\n",
      "           4       0.79      0.78      0.78       822\n",
      "           5       0.92      0.86      0.89       920\n",
      "\n",
      "    accuracy                           0.80      4359\n",
      "   macro avg       0.80      0.80      0.80      4359\n",
      "weighted avg       0.80      0.80      0.80      4359\n",
      "\n",
      "Cross-Validation Score:0.747\n"
     ]
    }
   ],
   "source": [
    "random_forest = probar_modelo(RandomForestClassifier(), \"Random Forest\")"
   ]
  },
  {
   "cell_type": "markdown",
   "metadata": {},
   "source": [
    "Podemos ver que adicionar la información de ventas dentro de Europa mejora considerablemente los resultados del modelo. Consiguiendo un máximo de 0.747 de precisión en cross-validation con el modelo de Random_Forest.\n",
    "\n",
    "Esto indica que la información de venta en un sector proporciona información suficiente para los modelos de clasificación para determinar el quintil al cual pertenece cierto dato. Consiguiendo un mejor desempeño en los quintiles extremos pero un buen ajuste también en los quintiles centrales."
   ]
  },
  {
   "cell_type": "code",
   "execution_count": 427,
   "metadata": {},
   "outputs": [
    {
     "name": "stdout",
     "output_type": "stream",
     "text": [
      "         feature  importance\n",
      "71      EU_Sales    0.334032\n",
      "0   Critic_Score    0.096969\n",
      "3     User_Count    0.095257\n",
      "1   Critic_Count    0.084265\n",
      "4         Rating    0.034615\n",
      "..           ...         ...\n",
      "46   Year_1991.0    0.000045\n",
      "40   Year_1981.0    0.000036\n",
      "8    Platform_GB    0.000034\n",
      "43   Year_1988.0    0.000005\n",
      "45   Year_1990.0    0.000000\n",
      "\n",
      "[72 rows x 2 columns]\n"
     ]
    }
   ],
   "source": [
    "\n",
    "feature_importance = pd.DataFrame({\n",
    "    'feature': X.columns,\n",
    "    'importance': random_forest.feature_importances_\n",
    "}).sort_values('importance', ascending=False)\n",
    "\n",
    "print(feature_importance)"
   ]
  },
  {
   "cell_type": "markdown",
   "metadata": {},
   "source": [
    "Podemos ver que la columna de mayor relevancia para el random forest son las ventas en europa, mientras que por detras se encuentra la valoración de la crítica especializada, la cantidad de usuarios y la cantidad de criticas que tiene el juego."
   ]
  },
  {
   "cell_type": "markdown",
   "metadata": {},
   "source": [
    "### Regresion lineal"
   ]
  },
  {
   "cell_type": "code",
   "execution_count": 428,
   "metadata": {},
   "outputs": [
    {
     "name": "stdout",
     "output_type": "stream",
     "text": [
      "R^2: 0.8219\n"
     ]
    }
   ],
   "source": [
    "import numpy as np\n",
    "import matplotlib.pyplot as plt\n",
    "from sklearn.linear_model import LinearRegression\n",
    "from sklearn.metrics import r2_score\n",
    "\n",
    "# Suponemos que X es un DataFrame con nombres de columnas\n",
    "regresion = LinearRegression()\n",
    "\n",
    "\n",
    "X[\"EU_Sales\"] = np.log(X[\"EU_Sales\"] + 1)\n",
    "\n",
    "# Ajustamos la regresión\n",
    "regresion.fit(X, np.log(Final[\"Global_Sales\"] + 1))\n",
    "\n",
    "\n",
    "\n",
    "# Calculamos el R^2\n",
    "y_pred = regresion.predict(X)\n",
    "r2 = r2_score(np.log(Final[\"Global_Sales\"] + 1), y_pred)\n",
    "print(f\"R^2: {r2:.4f}\")"
   ]
  },
  {
   "cell_type": "code",
   "execution_count": 432,
   "metadata": {},
   "outputs": [
    {
     "name": "stdout",
     "output_type": "stream",
     "text": [
      "Coeficientes positivos:\n",
      "['Critic_Score', 'Critic_Count', 'User_Score', 'User_Count', 'Genre_Fighting', 'Genre_Misc', 'Genre_Role-Playing', 'Genre_Shooter', 'Genre_Sports', 'Year_1989.0', 'Year_1990.0', 'Year_1991.0', 'Year_1992.0', 'Year_1994.0', 'Year_1996.0', 'Year_1997.0', 'Year_1998.0', 'Year_1999.0', 'Year_2001.0', 'Year_2006.0', 'Year_2007.0', 'Year_2008.0', 'EU_Sales']\n",
      "\n",
      "Coeficientes negativos:\n",
      "['Rating', 'Platform_3DS', 'Platform_DC', 'Platform_DS', 'Platform_GB', 'Platform_GBA', 'Platform_GC', 'Platform_GEN', 'Platform_N64', 'Platform_NES', 'Platform_PC', 'Platform_PS', 'Platform_PS2', 'Platform_PS3', 'Platform_PS4', 'Platform_PSP', 'Platform_PSV', 'Platform_SAT', 'Platform_SNES', 'Platform_Wii', 'Platform_WiiU', 'Platform_X360', 'Platform_XB', 'Platform_XOne', 'Genre_Adventure', 'Genre_Platform', 'Genre_Puzzle', 'Genre_Racing', 'Genre_Simulation', 'Genre_Strategy', 'Year_1980.0', 'Year_1981.0', 'Year_1982.0', 'Year_1985.0', 'Year_1988.0', 'Year_1995.0', 'Year_2000.0', 'Year_2002.0', 'Year_2003.0', 'Year_2004.0', 'Year_2005.0', 'Year_2009.0', 'Year_2010.0', 'Year_2011.0', 'Year_2012.0', 'Year_2013.0', 'Year_2014.0', 'Year_2015.0', 'Year_2016.0']\n",
      "\n",
      "R^2: 0.8219\n"
     ]
    }
   ],
   "source": [
    "# Obtenemos los coeficientes y los nombres de las columnas\n",
    "coeficientes = regresion.coef_\n",
    "nombres_columnas = X.columns\n",
    "\n",
    "# Separamos los coeficientes positivos y negativos con los nombres de las columnas\n",
    "coef_positivos = [(nombre, coef) for nombre, coef in zip(nombres_columnas, coeficientes) if coef > 0]\n",
    "coef_negativos = [(nombre, coef) for nombre, coef in zip(nombres_columnas, coeficientes) if coef < 0]\n",
    "\n",
    "# Imprimimos las listas de coeficientes\n",
    "print(\"Coeficientes positivos:\")\n",
    "print([a[0] for a in coef_positivos])\n",
    "\n",
    "print(\"\\nCoeficientes negativos:\")\n",
    "print([a[0] for a in coef_negativos])\n",
    "\n",
    "# Calculamos el R^2\n",
    "y_pred = regresion.predict(X)\n",
    "r2 = r2_score(np.log(Final[\"Global_Sales\"] + 1), y_pred)\n",
    "print(f\"\\nR^2: {r2:.4f}\")"
   ]
  },
  {
   "cell_type": "markdown",
   "metadata": {},
   "source": [
    "Podemos ver que además la regresion lineal tiene un mejor desempeño al añadir el dato de las ventas en Europa. Logrando explicar el 82% de la variabilidad de los datos. Mejorando considerablemente el ajuste del modelo.\n",
    "\n",
    "### Coeficientes"
   ]
  },
  {
   "cell_type": "code",
   "execution_count": 429,
   "metadata": {},
   "outputs": [
    {
     "name": "stdout",
     "output_type": "stream",
     "text": [
      "Coeficientes positivos: [np.float64(0.05102392819653521), np.float64(0.014743917198415932), np.float64(243041793630.5186), np.float64(0.007612651891783728), np.float64(0.0088351810755367), np.float64(0.010146429527817885), np.float64(0.0064697265625), np.float64(0.00115966796875), np.float64(0.00740814208984375), np.float64(0.00640869140625), np.float64(0.0003814697265625), np.float64(0.001953125), np.float64(0.000732421875), np.float64(0.004150390625), np.float64(0.005859375), np.float64(0.009521484375), np.float64(0.005859375), np.float64(0.00177001953125), np.float64(0.00048828125), np.float64(0.002685546875), np.float64(0.004302978515625), np.float64(0.003173828125), np.float64(1.3875732421875)]\n",
      "Coeficientes negativos: [np.float64(-243041793630.52734), np.float64(-795269068155.2777), np.float64(-191417166380.50696), np.float64(-1442942206303.4792), np.float64(-131780143715.27383), np.float64(-1076088822679.6929), np.float64(-1348377286560.5046), np.float64(-131780143715.26633), np.float64(-236416819298.52353), np.float64(-116225831391.55942), np.float64(-1679638903883.525), np.float64(-649033415272.5544), np.float64(-2026861145085.2441), np.float64(-1944311541665.8513), np.float64(-997856210598.9525), np.float64(-1364730388029.1118), np.float64(-759378384996.1782), np.float64(-138904482679.34946), np.float64(-181072908186.91916), np.float64(-1508812881022.1472), np.float64(-696484916722.2012), np.float64(-2007951186736.774), np.float64(-1580220420484.3022), np.float64(-911961172246.5428), np.float64(-0.009061351957559869), np.float64(-0.0010302543462367142), np.float64(-0.004835772210589617), np.float64(-0.00848388671875), np.float64(-0.0009765625), np.float64(-0.010711669921875), np.float64(-43936795865.03659), np.float64(-43936795865.03862), np.float64(-43936795865.038574), np.float64(-0.001373291015625), np.float64(-0.00152587890625), np.float64(-0.001953125), np.float64(-0.0010986328125), np.float64(-0.0120849609375), np.float64(-0.0160980224609375), np.float64(-0.008056640625), np.float64(-0.009765625), np.float64(-0.01129150390625), np.float64(-0.0084381103515625), np.float64(-0.0130615234375), np.float64(-0.011474609375), np.float64(-0.009765625), np.float64(-0.020263671875), np.float64(-0.02093505859375), np.float64(-0.022674560546875)]\n"
     ]
    }
   ],
   "source": [
    "# Obtenemos los coeficientes\n",
    "coeficientes = regresion.coef_\n",
    "\n",
    "# Separamos los coeficientes positivos y negativos\n",
    "coef_positivos = [coef for coef in coeficientes if coef > 0]\n",
    "coef_negativos = [coef for coef in coeficientes if coef < 0]\n",
    "\n",
    "# Imprimimos las listas de coeficientes\n",
    "print(\"Coeficientes positivos:\", coef_positivos)\n",
    "print(\"Coeficientes negativos:\", coef_negativos)"
   ]
  },
  {
   "cell_type": "markdown",
   "metadata": {},
   "source": [
    "# Conclusión\n"
   ]
  }
 ],
 "metadata": {
  "kernelspec": {
   "display_name": "Python 3",
   "language": "python",
   "name": "python3"
  },
  "language_info": {
   "codemirror_mode": {
    "name": "ipython",
    "version": 3
   },
   "file_extension": ".py",
   "mimetype": "text/x-python",
   "name": "python",
   "nbconvert_exporter": "python",
   "pygments_lexer": "ipython3",
   "version": "3.11.0"
  }
 },
 "nbformat": 4,
 "nbformat_minor": 2
}
